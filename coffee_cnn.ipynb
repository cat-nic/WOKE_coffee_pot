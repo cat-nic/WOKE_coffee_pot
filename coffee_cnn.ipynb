{
 "cells": [
  {
   "cell_type": "code",
   "execution_count": 5,
   "metadata": {},
   "outputs": [
    {
     "name": "stderr",
     "output_type": "stream",
     "text": [
      "C:\\Users\\fletcmd\\Python\\anaconda3\\lib\\site-packages\\ipykernel_launcher.py:25: UserWarning: Update your `Conv2D` call to the Keras 2 API: `Conv2D(32, (3, 3), input_shape=(64, 64, 3..., activation=\"relu\")`\n",
      "C:\\Users\\fletcmd\\Python\\anaconda3\\lib\\site-packages\\ipykernel_launcher.py:31: UserWarning: Update your `Conv2D` call to the Keras 2 API: `Conv2D(32, (3, 3), activation=\"relu\")`\n",
      "C:\\Users\\fletcmd\\Python\\anaconda3\\lib\\site-packages\\ipykernel_launcher.py:38: UserWarning: Update your `Dense` call to the Keras 2 API: `Dense(activation=\"relu\", units=128)`\n",
      "C:\\Users\\fletcmd\\Python\\anaconda3\\lib\\site-packages\\ipykernel_launcher.py:39: UserWarning: Update your `Dense` call to the Keras 2 API: `Dense(activation=\"sigmoid\", units=1)`\n"
     ]
    },
    {
     "name": "stdout",
     "output_type": "stream",
     "text": [
      "Found 50 images belonging to 2 classes.\n",
      "Found 10 images belonging to 2 classes.\n"
     ]
    },
    {
     "name": "stderr",
     "output_type": "stream",
     "text": [
      "C:\\Users\\fletcmd\\Python\\anaconda3\\lib\\site-packages\\ipykernel_launcher.py:69: UserWarning: The semantics of the Keras 2 argument `steps_per_epoch` is not the same as the Keras 1 argument `samples_per_epoch`. `steps_per_epoch` is the number of batches to draw from the generator at each epoch. Basically steps_per_epoch = samples_per_epoch/batch_size. Similarly `nb_val_samples`->`validation_steps` and `val_samples`->`steps` arguments have changed. Update your method calls accordingly.\n",
      "C:\\Users\\fletcmd\\Python\\anaconda3\\lib\\site-packages\\ipykernel_launcher.py:69: UserWarning: Update your `fit_generator` call to the Keras 2 API: `fit_generator(<keras.pre..., validation_data=<keras.pre..., steps_per_epoch=5, epochs=25, validation_steps=5)`\n"
     ]
    },
    {
     "name": "stdout",
     "output_type": "stream",
     "text": [
      "Epoch 1/25\n",
      "5/5 [==============================] - 1s 279ms/step - loss: 0.7072 - acc: 0.5600 - val_loss: 0.7002 - val_acc: 0.4444\n",
      "Epoch 2/25\n",
      "5/5 [==============================] - 1s 181ms/step - loss: 0.8165 - acc: 0.4800 - val_loss: 0.5830 - val_acc: 0.7778\n",
      "Epoch 3/25\n",
      "5/5 [==============================] - 1s 182ms/step - loss: 0.5421 - acc: 0.7600 - val_loss: 0.7658 - val_acc: 0.5000\n",
      "Epoch 4/25\n",
      "5/5 [==============================] - 1s 180ms/step - loss: 0.7568 - acc: 0.4000 - val_loss: 0.5416 - val_acc: 0.7222\n",
      "Epoch 5/25\n",
      "5/5 [==============================] - 1s 161ms/step - loss: 0.5086 - acc: 0.8400 - val_loss: 0.4739 - val_acc: 0.9444\n",
      "Epoch 6/25\n",
      "5/5 [==============================] - 1s 194ms/step - loss: 0.5154 - acc: 0.8800 - val_loss: 0.4161 - val_acc: 0.8889\n",
      "Epoch 7/25\n",
      "5/5 [==============================] - 1s 185ms/step - loss: 0.3070 - acc: 0.9600 - val_loss: 0.5136 - val_acc: 0.7778\n",
      "Epoch 8/25\n",
      "5/5 [==============================] - 1s 183ms/step - loss: 0.3383 - acc: 0.8800 - val_loss: 0.7572 - val_acc: 0.7222\n",
      "Epoch 9/25\n",
      "5/5 [==============================] - 1s 171ms/step - loss: 0.4662 - acc: 0.8000 - val_loss: 0.3103 - val_acc: 0.8333\n",
      "Epoch 10/25\n",
      "5/5 [==============================] - 1s 162ms/step - loss: 0.1666 - acc: 0.9200 - val_loss: 0.2912 - val_acc: 0.8333\n",
      "Epoch 11/25\n",
      "5/5 [==============================] - 1s 236ms/step - loss: 0.2316 - acc: 0.8800 - val_loss: 0.6408 - val_acc: 0.8889\n",
      "Epoch 12/25\n",
      "5/5 [==============================] - 1s 170ms/step - loss: 0.3277 - acc: 0.8800 - val_loss: 0.4015 - val_acc: 0.8889\n",
      "Epoch 13/25\n",
      "5/5 [==============================] - 1s 185ms/step - loss: 0.1723 - acc: 0.8800 - val_loss: 0.3196 - val_acc: 0.8889\n",
      "Epoch 14/25\n",
      "5/5 [==============================] - 1s 154ms/step - loss: 0.1243 - acc: 0.9200 - val_loss: 0.3508 - val_acc: 0.8889\n",
      "Epoch 15/25\n",
      "5/5 [==============================] - 1s 165ms/step - loss: 0.1253 - acc: 0.9600 - val_loss: 0.1744 - val_acc: 0.9444\n",
      "Epoch 16/25\n",
      "5/5 [==============================] - 1s 181ms/step - loss: 0.0869 - acc: 1.0000 - val_loss: 0.1230 - val_acc: 0.9444\n",
      "Epoch 17/25\n",
      "5/5 [==============================] - 1s 196ms/step - loss: 0.0767 - acc: 1.0000 - val_loss: 0.2238 - val_acc: 0.8889\n",
      "Epoch 18/25\n",
      "5/5 [==============================] - 1s 158ms/step - loss: 0.0887 - acc: 0.9200 - val_loss: 0.2244 - val_acc: 0.9444\n",
      "Epoch 19/25\n",
      "5/5 [==============================] - 1s 213ms/step - loss: 0.1263 - acc: 0.9200 - val_loss: 0.1920 - val_acc: 0.8889\n",
      "Epoch 20/25\n",
      "5/5 [==============================] - 1s 158ms/step - loss: 0.1193 - acc: 0.9600 - val_loss: 0.2582 - val_acc: 0.9444\n",
      "Epoch 21/25\n",
      "5/5 [==============================] - 1s 198ms/step - loss: 0.2044 - acc: 0.9200 - val_loss: 0.4159 - val_acc: 0.8889\n",
      "Epoch 22/25\n",
      "5/5 [==============================] - 1s 162ms/step - loss: 0.0594 - acc: 1.0000 - val_loss: 0.0830 - val_acc: 1.0000\n",
      "Epoch 23/25\n",
      "5/5 [==============================] - 1s 196ms/step - loss: 0.1217 - acc: 0.9600 - val_loss: 0.2726 - val_acc: 0.8889\n",
      "Epoch 24/25\n",
      "5/5 [==============================] - 1s 178ms/step - loss: 0.0311 - acc: 1.0000 - val_loss: 0.4194 - val_acc: 0.8889\n",
      "Epoch 25/25\n",
      "5/5 [==============================] - 1s 179ms/step - loss: 0.1067 - acc: 0.9200 - val_loss: 0.2273 - val_acc: 0.8889\n"
     ]
    },
    {
     "data": {
      "text/plain": [
       "<keras.callbacks.History at 0x2bc7373d3c8>"
      ]
     },
     "execution_count": 5,
     "metadata": {},
     "output_type": "execute_result"
    }
   ],
   "source": [
    "# Convolutional Neural Network\n",
    "\n",
    "# Installing Theano\n",
    "# pip install --upgrade --no-deps git+git://github.com/Theano/Theano.git\n",
    "\n",
    "# Installing Tensorflow\n",
    "# Install Tensorflow from the website: https://www.tensorflow.org/versions/r0.12/get_started/os_setup.html\n",
    "\n",
    "# Installing Keras\n",
    "# pip install --upgrade keras\n",
    "\n",
    "# Part 1 - Building the CNN\n",
    "\n",
    "# Importing the Keras libraries and packages\n",
    "from keras.models import Sequential\n",
    "from keras.layers import Convolution2D\n",
    "from keras.layers import MaxPooling2D\n",
    "from keras.layers import Flatten\n",
    "from keras.layers import Dense\n",
    "\n",
    "# Initialising the CNN\n",
    "classifier = Sequential()\n",
    "\n",
    "# Step 1 - Convolution\n",
    "classifier.add(Convolution2D(32, 3, 3, input_shape = (64, 64, 3), activation = 'relu'))\n",
    "\n",
    "# Step 2 - Pooling\n",
    "classifier.add(MaxPooling2D(pool_size = (2, 2)))\n",
    "\n",
    "# Adding a second convolutional layer\n",
    "classifier.add(Convolution2D(32, 3, 3, activation = 'relu'))\n",
    "classifier.add(MaxPooling2D(pool_size = (2, 2)))\n",
    "\n",
    "# Step 3 - Flattening\n",
    "classifier.add(Flatten())\n",
    "\n",
    "# Step 4 - Full connection\n",
    "classifier.add(Dense(output_dim = 128, activation = 'relu'))\n",
    "classifier.add(Dense(output_dim = 1, activation = 'sigmoid'))\n",
    "\n",
    "# Compiling the CNN\n",
    "classifier.compile(optimizer = 'adam', loss = 'binary_crossentropy', metrics = ['accuracy'])\n",
    "\n",
    "# Part 2 - Fitting the CNN to the images\n",
    "\n",
    "from keras.preprocessing.image import ImageDataGenerator\n",
    "\n",
    "train_datagen = ImageDataGenerator(rescale = 1./255,\n",
    "                                   shear_range = 0.2,\n",
    "                                   zoom_range = 0.2,\n",
    "                                   horizontal_flip = True)\n",
    "\n",
    "test_datagen = ImageDataGenerator(rescale = 1./255)\n",
    "\n",
    "training_set = train_datagen.flow_from_directory('dataset2/training_set',\n",
    "                                                 target_size = (64, 64),\n",
    "                                                 batch_size = 5,\n",
    "                                                 class_mode = 'binary')\n",
    "\n",
    "test_set = test_datagen.flow_from_directory('dataset2/test_set',\n",
    "                                            target_size = (64, 64),\n",
    "                                            batch_size = 4,\n",
    "                                            class_mode = 'binary')\n",
    "\n",
    "classifier.fit_generator(training_set,\n",
    "                         samples_per_epoch = 25,\n",
    "                         nb_epoch = 25,\n",
    "                         validation_data = test_set,\n",
    "                         nb_val_samples = 5)"
   ]
  },
  {
   "cell_type": "code",
   "execution_count": 6,
   "metadata": {},
   "outputs": [
    {
     "data": {
      "text/plain": [
       "<keras.preprocessing.image.DirectoryIterator at 0x2bc73e1ea20>"
      ]
     },
     "execution_count": 6,
     "metadata": {},
     "output_type": "execute_result"
    }
   ],
   "source": [
    "training_set"
   ]
  },
  {
   "cell_type": "code",
   "execution_count": 142,
   "metadata": {},
   "outputs": [],
   "source": [
    "import cv2\n",
    "img = cv2.imread(\"./dataset2/test_set/empty/empty.26.jpg\")\n"
   ]
  },
  {
   "cell_type": "code",
   "execution_count": 143,
   "metadata": {},
   "outputs": [],
   "source": [
    "img = cv2.resize(img, dsize=(64, 64))"
   ]
  },
  {
   "cell_type": "code",
   "execution_count": 144,
   "metadata": {},
   "outputs": [],
   "source": [
    "res = cv2.resize(img, dsize=(64, 64), interpolation=cv2.INTER_CUBIC)"
   ]
  },
  {
   "cell_type": "code",
   "execution_count": 145,
   "metadata": {},
   "outputs": [],
   "source": [
    "x2=res.reshape((1,) + res.shape)"
   ]
  },
  {
   "cell_type": "code",
   "execution_count": 146,
   "metadata": {},
   "outputs": [
    {
     "data": {
      "text/plain": [
       "(1, 64, 64, 3)"
      ]
     },
     "execution_count": 146,
     "metadata": {},
     "output_type": "execute_result"
    }
   ],
   "source": [
    "x2.shape"
   ]
  },
  {
   "cell_type": "code",
   "execution_count": 147,
   "metadata": {},
   "outputs": [],
   "source": [
    "results = classifier.predict_classes(x2)"
   ]
  },
  {
   "cell_type": "code",
   "execution_count": 148,
   "metadata": {},
   "outputs": [
    {
     "data": {
      "text/plain": [
       "0"
      ]
     },
     "execution_count": 148,
     "metadata": {},
     "output_type": "execute_result"
    }
   ],
   "source": [
    "results[0][0]"
   ]
  },
  {
   "cell_type": "code",
   "execution_count": null,
   "metadata": {
    "collapsed": true
   },
   "outputs": [],
   "source": []
  },
  {
   "cell_type": "code",
   "execution_count": null,
   "metadata": {
    "collapsed": true
   },
   "outputs": [],
   "source": []
  }
 ],
 "metadata": {
  "kernelspec": {
   "display_name": "Python 3",
   "language": "python",
   "name": "python3"
  },
  "language_info": {
   "codemirror_mode": {
    "name": "ipython",
    "version": 3
   },
   "file_extension": ".py",
   "mimetype": "text/x-python",
   "name": "python",
   "nbconvert_exporter": "python",
   "pygments_lexer": "ipython3",
   "version": "3.6.3"
  }
 },
 "nbformat": 4,
 "nbformat_minor": 2
}
